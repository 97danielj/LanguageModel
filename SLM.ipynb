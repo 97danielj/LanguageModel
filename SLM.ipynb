{
 "cells": [
  {
   "cell_type": "code",
   "execution_count": 1,
   "id": "45e2d467",
   "metadata": {},
   "outputs": [
    {
     "name": "stdout",
     "output_type": "stream",
     "text": [
      "\n",
      "bigram:\n",
      "('I', 'am')\n",
      "('am', 'a')\n",
      "('a', 'boy')\n",
      "('boy', '.')\n",
      "\n",
      "trigram:\n",
      "('I', 'am', 'a')\n",
      "('am', 'a', 'boy')\n",
      "('a', 'boy', '.')\n"
     ]
    }
   ],
   "source": [
    "from nltk import bigrams, word_tokenize\n",
    "from nltk.util import ngrams\n",
    "\n",
    "sentence = \"I am a boy.\"\n",
    "tokens = word_tokenize(sentence)\n",
    "\n",
    "bigram = bigrams(tokens)\n",
    "trigram = ngrams(tokens, 3)\n",
    "\n",
    "print(\"\\nbigram:\")\n",
    "for t in bigram:\n",
    "    print(t)\n",
    "\n",
    "print(\"\\ntrigram:\")\n",
    "for t in trigram:\n",
    "    print(t)"
   ]
  },
  {
   "cell_type": "code",
   "execution_count": 2,
   "id": "26af10dd",
   "metadata": {},
   "outputs": [
    {
     "name": "stdout",
     "output_type": "stream",
     "text": [
      "('SS', 'I')\n",
      "('I', 'am')\n",
      "('am', 'a')\n",
      "('a', 'boy')\n",
      "('boy', '.')\n",
      "('.', 'SE')\n"
     ]
    }
   ],
   "source": [
    "bigram = ngrams(tokens, 2, pad_left=True, pad_right=True, left_pad_symbol=\"SS\", right_pad_symbol=\"SE\")\n",
    "for t in bigram:\n",
    "    print(t)"
   ]
  },
  {
   "cell_type": "code",
   "execution_count": 6,
   "id": "fd0538a6",
   "metadata": {},
   "outputs": [
    {
     "data": {
      "text/plain": [
       "['SS', 'I', 'am', 'a', 'boy', '.']"
      ]
     },
     "execution_count": 6,
     "metadata": {},
     "output_type": "execute_result"
    }
   ],
   "source": [
    "from nltk import ConditionalFreqDist\n",
    "\n",
    "sentence = \"I am a boy.\"\n",
    "tokens = word_tokenize(sentence) #단어 토큰화\n",
    "bigram = ngrams(tokens, 2, pad_left=True, pad_right=True, left_pad_symbol=\"SS\", right_pad_symbol=\"SE\")\n",
    "#패딩 SS<문장>SE\n",
    "cfd = ConditionalFreqDist([(t[0], t[1]) for t in bigram])\n",
    "cfd.conditions()"
   ]
  },
  {
   "cell_type": "code",
   "execution_count": 9,
   "id": "042de1f7",
   "metadata": {},
   "outputs": [
    {
     "data": {
      "text/plain": [
       "FreqDist({'I': 1})"
      ]
     },
     "execution_count": 9,
     "metadata": {},
     "output_type": "execute_result"
    }
   ],
   "source": [
    "cfd['SS']"
   ]
  },
  {
   "cell_type": "code",
   "execution_count": 11,
   "id": "c57e6d39",
   "metadata": {},
   "outputs": [
    {
     "name": "stderr",
     "output_type": "stream",
     "text": [
      "[nltk_data] Downloading package movie_reviews to\n",
      "[nltk_data]     C:\\Users\\JSWonner\\AppData\\Roaming\\nltk_data...\n",
      "[nltk_data]   Package movie_reviews is already up-to-date!\n",
      "[nltk_data] Downloading package punkt to\n",
      "[nltk_data]     C:\\Users\\JSWonner\\AppData\\Roaming\\nltk_data...\n",
      "[nltk_data]   Package punkt is already up-to-date!\n"
     ]
    },
    {
     "name": "stdout",
     "output_type": "stream",
     "text": [
      "I\n"
     ]
    }
   ],
   "source": [
    "import nltk\n",
    "nltk.download('movie_reviews')\n",
    "nltk.download('punkt') #텍스트를 문장으로 나눠주는 비지도 알고리즘\n",
    "from nltk.corpus import movie_reviews #샘플 코퍼스 데이터 연결\n",
    "\n",
    "sentences = []\n",
    "for tokens in movie_reviews.sents(): #한 문장을 꺼내서\n",
    "    bigram = ngrams(tokens, 2, pad_left=True, pad_right=True, left_pad_symbol=\"SS\", right_pad_symbol=\"SE\")\n",
    "    #토큰의 시작과 끝 추가 SS<문장>SE -> 토크을 앞+뒤 2개의 토큰을 하나의 토큰으로 묶는다.\n",
    "    sentences += [t for t in bigram]\n",
    "\n",
    "sentences[:20]\n"
   ]
  },
  {
   "cell_type": "code",
   "execution_count": 16,
   "id": "341e3d29",
   "metadata": {},
   "outputs": [
    {
     "data": {
      "text/plain": [
       "[('SS', 'plot'),\n",
       " ('plot', ':'),\n",
       " (':', 'two'),\n",
       " ('two', 'teen'),\n",
       " ('teen', 'couples'),\n",
       " ('couples', 'go'),\n",
       " ('go', 'to'),\n",
       " ('to', 'a'),\n",
       " ('a', 'church'),\n",
       " ('church', 'party'),\n",
       " ('party', ','),\n",
       " (',', 'drink'),\n",
       " ('drink', 'and'),\n",
       " ('and', 'then'),\n",
       " ('then', 'drive'),\n",
       " ('drive', '.'),\n",
       " ('.', 'SE'),\n",
       " ('SS', 'they'),\n",
       " ('they', 'get'),\n",
       " ('get', 'into')]"
      ]
     },
     "execution_count": 16,
     "metadata": {},
     "output_type": "execute_result"
    }
   ],
   "source": [
    "sentences[0:20]"
   ]
  },
  {
   "cell_type": "code",
   "execution_count": 18,
   "id": "22009f96",
   "metadata": {},
   "outputs": [
    {
     "name": "stdout",
     "output_type": "stream",
     "text": [
      "<class 'tuple'>\n",
      "<class 'list'>\n"
     ]
    }
   ],
   "source": [
    "print(type(sentences[0]))\n",
    "sentences[0]\n",
    "print(type(sentences))"
   ]
  },
  {
   "cell_type": "code",
   "execution_count": 19,
   "id": "285049be",
   "metadata": {},
   "outputs": [],
   "source": [
    "cfd = ConditionalFreqDist(sentences)"
   ]
  },
  {
   "cell_type": "code",
   "execution_count": 25,
   "id": "b3420f7d",
   "metadata": {},
   "outputs": [
    {
     "data": {
      "text/plain": [
       "[('the', 8071), ('.', 3173), ('it', 3136), ('i', 2471), ('but', 1814)]"
      ]
     },
     "execution_count": 25,
     "metadata": {},
     "output_type": "execute_result"
    }
   ],
   "source": [
    "cfd['SS'].most_common(5)"
   ]
  },
  {
   "cell_type": "code",
   "execution_count": 21,
   "id": "87c341da",
   "metadata": {},
   "outputs": [
    {
     "data": {
      "text/plain": [
       "[(\"'\", 1357), ('was', 506), ('can', 351), ('have', 330), ('don', 276)]"
      ]
     },
     "execution_count": 21,
     "metadata": {},
     "output_type": "execute_result"
    }
   ],
   "source": [
    "cfd[\"i\"].most_common(5)"
   ]
  },
  {
   "cell_type": "code",
   "execution_count": 22,
   "id": "55f7925b",
   "metadata": {},
   "outputs": [
    {
     "data": {
      "text/plain": [
       "[('SE', 63404), ('\"', 1854), (')', 535), (\"'\", 70), (']', 10)]"
      ]
     },
     "execution_count": 22,
     "metadata": {},
     "output_type": "execute_result"
    }
   ],
   "source": [
    "cfd[\".\"].most_common(5)"
   ]
  },
  {
   "cell_type": "code",
   "execution_count": 26,
   "id": "95280546",
   "metadata": {},
   "outputs": [
    {
     "data": {
      "image/png": "[encoded data removed]",
      "text/plain": [
       "<Figure size 432x288 with 1 Axes>"
      ]
     },
     "metadata": {
      "needs_background": "light"
     },
     "output_type": "display_data"
    },
    {
     "data": {
      "image/png": "[encoded data removed]",
      "text/plain": [
       "<Figure size 432x288 with 1 Axes>"
      ]
     },
     "metadata": {
      "needs_background": "light"
     },
     "output_type": "display_data"
    },
    {
     "data": {
      "image/png": "[encoded data removed]",
      "text/plain": [
       "<Figure size 432x288 with 1 Axes>"
      ]
     },
     "metadata": {
      "needs_background": "light"
     },
     "output_type": "display_data"
    },
    {
     "data": {
      "text/plain": [
       "<AxesSubplot:title={'center':'. 다음 단어의 분포'}, xlabel='Samples', ylabel='Counts'>"
      ]
     },
     "execution_count": 26,
     "metadata": {},
     "output_type": "execute_result"
    }
   ],
   "source": [
    "import matplotlib.pyplot as plt\n",
    "plt.subplot(311)\n",
    "cfd[\"SS\"].plot(5, title=\"문장의 첫단어 분포\")\n",
    "plt.subplot(312)\n",
    "cfd[\"i\"].plot(5, title=\"i 다음 단어의 분포\")\n",
    "plt.subplot(313)\n",
    "cfd[\".\"].plot(5, title=\". 다음 단어의 분포\")"
   ]
  },
  {
   "cell_type": "code",
   "execution_count": 28,
   "id": "f8298a51",
   "metadata": {},
   "outputs": [],
   "source": [
    "from nltk.probability import ConditionalProbDist, MLEProbDist\n",
    "cpd = ConditionalProbDist(cfd, MLEProbDist) #빈도 추정 클래스"
   ]
  },
  {
   "cell_type": "code",
   "execution_count": 29,
   "id": "bf40996e",
   "metadata": {},
   "outputs": [
    {
     "data": {
      "text/plain": [
       "0.018562267971650354"
      ]
     },
     "execution_count": 29,
     "metadata": {},
     "output_type": "execute_result"
    }
   ],
   "source": [
    "cpd[\"i\"].prob(\"am\")"
   ]
  },
  {
   "cell_type": "code",
   "execution_count": 33,
   "id": "10dd6990",
   "metadata": {},
   "outputs": [
    {
     "data": {
      "text/plain": [
       "<MLEProbDist based on 8889 samples>"
      ]
     },
     "execution_count": 33,
     "metadata": {},
     "output_type": "execute_result"
    }
   ],
   "source": [
    "cpd[\"i\"].prob(\"is\")"
   ]
  },
  {
   "cell_type": "code",
   "execution_count": 34,
   "id": "93585d00",
   "metadata": {},
   "outputs": [],
   "source": [
    "#P(SS<문장>SE) = P(시작단어|SS)*P(|)*P(|)*P(|)*P(|)*P(SE|종료단어)\n",
    "\n",
    "def sentence_score(s):\n",
    "    p = 0.0\n",
    "    for i in range(len(s) - 1):\n",
    "        c = s[i]\n",
    "        w = s[i + 1]\n",
    "        p += np.log(cpd[c].prob(w) + np.finfo(float).eps)\n",
    "    return np.exp(p) #지수함수를 리턴"
   ]
  },
  {
   "cell_type": "code",
   "execution_count": 36,
   "id": "62fd89de",
   "metadata": {},
   "outputs": [
    {
     "data": {
      "text/plain": [
       "2.740764134071561e-06"
      ]
     },
     "execution_count": 36,
     "metadata": {},
     "output_type": "execute_result"
    }
   ],
   "source": [
    "import numpy as np\n",
    "test_sentence = [\"i\", \"like\", \"the\", \"movie\", \".\"] #단어 토큰화된 리스트\n",
    "sentence_score(test_sentence)"
   ]
  },
  {
   "cell_type": "code",
   "execution_count": 37,
   "id": "c67599d3",
   "metadata": {},
   "outputs": [
    {
     "data": {
      "text/plain": [
       "1.5015040140827832e-38"
      ]
     },
     "execution_count": 37,
     "metadata": {},
     "output_type": "execute_result"
    }
   ],
   "source": [
    "test_sentence = [\"like\", \"i\", \"the\", \".\", \"movie\"]\n",
    "sentence_score(test_sentence)"
   ]
  },
  {
   "cell_type": "code",
   "execution_count": 39,
   "id": "1b7db08f",
   "metadata": {},
   "outputs": [
    {
     "data": {
      "text/plain": [
       "0.003898785120601922"
      ]
     },
     "execution_count": 39,
     "metadata": {},
     "output_type": "execute_result"
    }
   ],
   "source": [
    "test_data=['the','movie','.']#실현 가능 문장\n",
    "sentence_score(test_data)"
   ]
  },
  {
   "cell_type": "code",
   "execution_count": 40,
   "id": "f1eb40e5",
   "metadata": {},
   "outputs": [
    {
     "data": {
      "text/plain": [
       "3.085769765203191e-17"
      ]
     },
     "execution_count": 40,
     "metadata": {},
     "output_type": "execute_result"
    }
   ],
   "source": [
    "test_data2=['movie','.','the']#실현 불가능 문장\n",
    "sentence_score(test_data2)"
   ]
  },
  {
   "cell_type": "code",
   "execution_count": 41,
   "id": "69175362",
   "metadata": {},
   "outputs": [
    {
     "data": {
      "text/plain": [
       "'she'"
      ]
     },
     "execution_count": 41,
     "metadata": {},
     "output_type": "execute_result"
    }
   ],
   "source": [
    "import random\n",
    "random.seed(10)\n",
    "cpd['SS'].generate() #시작문자 아무거나 생성"
   ]
  },
  {
   "cell_type": "code",
   "execution_count": 42,
   "id": "ca1a4dad",
   "metadata": {},
   "outputs": [
    {
     "data": {
      "text/plain": [
       "'and'"
      ]
     },
     "execution_count": 42,
     "metadata": {},
     "output_type": "execute_result"
    }
   ],
   "source": [
    "cpd['she'].generate() #'she' 다음 문자 생성"
   ]
  },
  {
   "cell_type": "code",
   "execution_count": 43,
   "id": "5414b631",
   "metadata": {},
   "outputs": [
    {
     "data": {
      "text/plain": [
       "'fine'"
      ]
     },
     "execution_count": 43,
     "metadata": {},
     "output_type": "execute_result"
    }
   ],
   "source": [
    "cpd['and'].generate()"
   ]
  },
  {
   "cell_type": "code",
   "execution_count": 56,
   "id": "46cd7429",
   "metadata": {},
   "outputs": [
    {
     "name": "stdout",
     "output_type": "stream",
     "text": [
      "<MLEProbDist based on 284 samples>\n",
      "<ConditionalProbDist with 39769 conditions>\n",
      "<ConditionalFreqDist with 39769 conditions>\n"
     ]
    }
   ],
   "source": [
    "\n",
    "print(cpd) #문맥을 조건으로 가지는 사전 자료형\n",
    "print(cfd) #문맥을 조건으로 가지는 사전 자료형"
   ]
  },
  {
   "cell_type": "code",
   "execution_count": 46,
   "id": "9098963a",
   "metadata": {},
   "outputs": [],
   "source": [
    "def generate_sentence(seed=None):\n",
    "    if seed is not None:\n",
    "        import random\n",
    "        random.seed(seed)\n",
    "    c = \"SS\"\n",
    "    sentence = []#새로 만들 sentence\n",
    "    while True:\n",
    "        if c not in cpd: #''현재문자'가 없다면 생성 불가\n",
    "            break\n",
    "        w = cpd[c].generate() #다음 문자 발생\n",
    "\n",
    "        if w == \"SE\":\n",
    "            break\n",
    "        elif w in [\"i\", \"ii\", \"iii\"]:\n",
    "            w2 = w.upper() #전처리\n",
    "        elif w in [\"mr\", \"luc\", \"i\", \"robin\", \"williams\", \"cindy\", \"crawford\"]:\n",
    "            w2 = w.title() #전처리\n",
    "        else:\n",
    "            w2 = w\n",
    "\n",
    "        if c == \"SS\": \n",
    "            sentence.append(w2.title())\n",
    "        elif c in [\"`\", \"\\\"\", \"'\", \"(\"]: #특수문자 전처리\n",
    "            sentence.append(w2)\n",
    "        elif w in [\"'\", \".\", \",\", \")\", \":\", \";\", \"?\"]: #특수문자 전처리\n",
    "            sentence.append(w2)\n",
    "        else:\n",
    "            sentence.append(\" \" + w2) #공백을 이용힌 단어 구분\n",
    "\n",
    "        c = w #다음단어가 현재 단어가 된다.\n",
    "    return \"\".join(sentence)"
   ]
  },
  {
   "cell_type": "code",
   "execution_count": 47,
   "id": "93711429",
   "metadata": {},
   "outputs": [
    {
     "data": {
      "text/plain": [
       "\"Writers in one of the prison, yet, works as agent ray liotta, one of watching, we supposed to doubt that the holocaust - or the fact, the amc and don's wonderful experience, do what could either.\""
      ]
     },
     "execution_count": 47,
     "metadata": {},
     "output_type": "execute_result"
    }
   ],
   "source": [
    "generate_sentence(6)"
   ]
  },
  {
   "cell_type": "code",
   "execution_count": 52,
   "id": "af0ac6c0",
   "metadata": {},
   "outputs": [],
   "source": [
    "from nltk.util import ngrams#앞단어와 뒷단어 를 갖고있는 data생성용(바이그램으로 사용할 것)\n",
    "from nltk import ConditionalFreqDist #문맥별 단어 빈도수 측정 클래스\n",
    "from nltk.probability import ConditionalProbDist# 문맥별 조건부 확률 추정 클래스\n",
    "from nltk.probability import MLEProbDist #최대 우도 추정값 클래스 \n",
    "# .generate()샘플 추출 (임의의 값을 추출)"
   ]
  },
  {
   "cell_type": "markdown",
   "id": "3cd76297",
   "metadata": {},
   "source": [
    "1. 데이터 수집"
   ]
  },
  {
   "cell_type": "code",
   "execution_count": 53,
   "id": "3ca56457",
   "metadata": {},
   "outputs": [],
   "source": [
    "from nltk.corpus import movie_reviews #샘플 코퍼스\n",
    "data=movie_reviews.sents()#단어별 토큰와 된 문장들"
   ]
  },
  {
   "cell_type": "markdown",
   "id": "d6a92574",
   "metadata": {},
   "source": [
    "2. 데이터 전처리\n",
    "-토큰화<br/>\n",
    "-정형화<br/>\n",
    "-정규화<br/>"
   ]
  },
  {
   "cell_type": "code",
   "execution_count": 54,
   "id": "3dac3acb",
   "metadata": {},
   "outputs": [],
   "source": [
    "data_l=[]#처리된 단어 토큰 조합\n",
    "for 문장 in data:\n",
    "    #토큰화된 리스트 양쪽 끝에 'SS'와 'SE' 를 츠기\n",
    "    bg=ngrams(문장,2,pad_left=True,pad_right=True,left_pad_symbol=\"SS\",right_pad_symbol=\"SE\")\n",
    "    data_l+=[t for t in bg]"
   ]
  },
  {
   "cell_type": "markdown",
   "id": "3d44fb78",
   "metadata": {},
   "source": [
    "3. 모델학습"
   ]
  },
  {
   "cell_type": "code",
   "execution_count": 55,
   "id": "7e0e9831",
   "metadata": {},
   "outputs": [],
   "source": [
    "cfd = ConditionalFreqDist(data_l) #문맥별 단어 빈도수 측정 클래스 (딕셔너리)\n",
    "cpd = ConditionalProbDist(cfd,MLEProbDist) #문맥별 조건부확률 추정 클래스 (딕셔너리)"
   ]
  },
  {
   "cell_type": "markdown",
   "id": "6a81e5af",
   "metadata": {},
   "source": [
    "최종 동작 -(data별 추가적 처리가 필요)<자동 랜덤 문장 생성기>"
   ]
  },
  {
   "cell_type": "code",
   "execution_count": 57,
   "id": "724cca7e",
   "metadata": {},
   "outputs": [],
   "source": [
    "st='SS'#문장의 시작\n",
    "all_str=[]\n",
    "import random\n",
    "random.seed(10)#(seed고정으로 인한 data고정)\n",
    "while True:#SS<문장>SE\n",
    "    st=cpd[st].generate()#임의로 샘플 추출 ex) i->[am, a, data, SE]\n",
    "    all_str.append(st)#리스트로 기록\n",
    "    if st=='SE':#문장의 종료\n",
    "        all_str.pop()\n",
    "        break\n",
    "생성된_data=''.join(all_str)#리스트의 내용을 이용하여 하나의 문자열로 정리\n"
   ]
  },
  {
   "cell_type": "code",
   "execution_count": 59,
   "id": "633789e8",
   "metadata": {},
   "outputs": [
    {
     "name": "stdout",
     "output_type": "stream",
     "text": [
      "sheandfineeffect;frankly,anddoinghissonbecomesshockinglylazyshortcuttohermotherof\"story\"\n"
     ]
    }
   ],
   "source": [
    "print(생성된_data)"
   ]
  },
  {
   "cell_type": "code",
   "execution_count": null,
   "id": "897f444e",
   "metadata": {},
   "outputs": [],
   "source": []
  }
 ],
 "metadata": {
  "kernelspec": {
   "display_name": "Python 3 (ipykernel)",
   "language": "python",
   "name": "python3"
  },
  "language_info": {
   "codemirror_mode": {
    "name": "ipython",
    "version": 3
   },
   "file_extension": ".py",
   "mimetype": "text/x-python",
   "name": "python",
   "nbconvert_exporter": "python",
   "pygments_lexer": "ipython3",
   "version": "3.9.7"
  }
 },
 "nbformat": 4,
 "nbformat_minor": 5
}
