{
 "cells": [
  {
   "cell_type": "code",
   "execution_count": 2,
   "id": "2204d5e4",
   "metadata": {},
   "outputs": [],
   "source": [
    "text = ['공부 하고 싶다.',\n",
    "       '공부 하기 깋다',\n",
    "        '공부 내일 할까',\n",
    "        '공부 하고 놀기',\n",
    "        '놀기 말고 놀기'\n",
    "       ]\n",
    "from math import log\n",
    "import pandas as pd"
   ]
  },
  {
   "cell_type": "code",
   "execution_count": 3,
   "id": "47ce6ab7",
   "metadata": {},
   "outputs": [
    {
     "data": {
      "text/plain": [
       "['공부 하고 싶다.', '공부 하기 깋다', '공부 내일 할까', '공부 하고 놀기', '놀기 말고 놀기']"
      ]
     },
     "execution_count": 3,
     "metadata": {},
     "output_type": "execute_result"
    }
   ],
   "source": [
    "from sklearn.feature_extraction.text import TfidfVectorizer\n",
    "text"
   ]
  },
  {
   "cell_type": "code",
   "execution_count": 5,
   "id": "706bc18c",
   "metadata": {},
   "outputs": [
    {
     "data": {
      "text/plain": [
       "{'공부': 0,\n",
       " '하고': 6,\n",
       " '싶다': 5,\n",
       " '하기': 7,\n",
       " '깋다': 1,\n",
       " '내일': 2,\n",
       " '할까': 8,\n",
       " '놀기': 3,\n",
       " '말고': 4}"
      ]
     },
     "execution_count": 5,
     "metadata": {},
     "output_type": "execute_result"
    }
   ],
   "source": [
    "tfidfv=TfidfVectorizer().fit(text)\n",
    "tfidfv.vocabulary_ #단어 집합"
   ]
  },
  {
   "cell_type": "code",
   "execution_count": 8,
   "id": "9f59c057",
   "metadata": {},
   "outputs": [
    {
     "data": {
      "text/plain": [
       "array([[0.40156512, 0.        , 0.        , 0.        , 0.        ,\n",
       "        0.71277522, 0.57506256, 0.        , 0.        ],\n",
       "       [0.37008621, 0.65690037, 0.        , 0.        , 0.        ,\n",
       "        0.        , 0.        , 0.65690037, 0.        ],\n",
       "       [0.37008621, 0.        , 0.65690037, 0.        , 0.        ,\n",
       "        0.        , 0.        , 0.        , 0.65690037],\n",
       "       [0.44274009, 0.        , 0.        , 0.63402729, 0.        ,\n",
       "        0.        , 0.63402729, 0.        , 0.        ],\n",
       "       [0.        , 0.        , 0.        , 0.85000275, 0.52677825,\n",
       "        0.        , 0.        , 0.        , 0.        ]])"
      ]
     },
     "execution_count": 8,
     "metadata": {},
     "output_type": "execute_result"
    }
   ],
   "source": [
    "tfidfv.transform(text).toarray()"
   ]
  },
  {
   "cell_type": "code",
   "execution_count": null,
   "id": "cdd26809",
   "metadata": {},
   "outputs": [],
   "source": []
  }
 ],
 "metadata": {
  "kernelspec": {
   "display_name": "Python 3 (ipykernel)",
   "language": "python",
   "name": "python3"
  },
  "language_info": {
   "codemirror_mode": {
    "name": "ipython",
    "version": 3
   },
   "file_extension": ".py",
   "mimetype": "text/x-python",
   "name": "python",
   "nbconvert_exporter": "python",
   "pygments_lexer": "ipython3",
   "version": "3.9.7"
  }
 },
 "nbformat": 4,
 "nbformat_minor": 5
}
