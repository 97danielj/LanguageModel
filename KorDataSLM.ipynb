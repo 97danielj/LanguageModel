{
 "cells": [
  {
   "cell_type": "markdown",
   "id": "e92f0ee4",
   "metadata": {},
   "source": [
    "1. 데이터수집"
   ]
  },
  {
   "cell_type": "code",
   "execution_count": 5,
   "id": "3b3ca8f4",
   "metadata": {},
   "outputs": [],
   "source": [
    "import codecs\n",
    "with codecs.open('data2.txt',encoding='utf-8') as f: #문서 로드\n",
    "    #한줄의 문장이 id, docment label이 '\\t'로 분리되어있다.\n",
    "    data = [문장.split('\\t') for 문장 in f.read().splitlines()]\n",
    "    data=data[1:] #첫번째 feature_names제거\n",
    "\n"
   ]
  },
  {
   "cell_type": "markdown",
   "id": "0ea08da5",
   "metadata": {},
   "source": [
    "2-1. 데이터전처리(문장 토큰화 및 정제)"
   ]
  },
  {
   "cell_type": "code",
   "execution_count": 7,
   "id": "6f3719d8",
   "metadata": {},
   "outputs": [],
   "source": [
    "t_data = [문장[1] for 문장 in data]\n",
    "#우리는 document 피쳐만이 필요하다."
   ]
  },
  {
   "cell_type": "markdown",
   "id": "bbe9c264",
   "metadata": {},
   "source": [
    "2-2. 데이터전처리(단어토큰화->형태소 토큰화)"
   ]
  },
  {
   "cell_type": "code",
   "execution_count": 13,
   "id": "368d9bff",
   "metadata": {},
   "outputs": [
    {
     "name": "stderr",
     "output_type": "stream",
     "text": [
      "100%|████████████████████████████████████████████████████████████████████| 150000/150000 [21:28<00:00, 116.38it/s]\n"
     ]
    },
    {
     "ename": "AttributeError",
     "evalue": "'list' object has no attribute 'shape'",
     "output_type": "error",
     "traceback": [
      "\u001b[1;31m---------------------------------------------------------------------------\u001b[0m",
      "\u001b[1;31mAttributeError\u001b[0m                            Traceback (most recent call last)",
      "\u001b[1;32m~\\AppData\\Local\\Temp/ipykernel_2076/2686505941.py\u001b[0m in \u001b[0;36m<module>\u001b[1;34m\u001b[0m\n\u001b[0;32m     13\u001b[0m     \u001b[0mbg\u001b[0m\u001b[1;33m=\u001b[0m\u001b[0mngrams\u001b[0m\u001b[1;33m(\u001b[0m\u001b[0mtk_data\u001b[0m\u001b[1;33m,\u001b[0m\u001b[1;36m2\u001b[0m\u001b[1;33m,\u001b[0m\u001b[0mpad_left\u001b[0m\u001b[1;33m=\u001b[0m\u001b[1;32mTrue\u001b[0m\u001b[1;33m,\u001b[0m\u001b[0mpad_right\u001b[0m\u001b[1;33m=\u001b[0m\u001b[1;32mTrue\u001b[0m\u001b[1;33m,\u001b[0m\u001b[0mleft_pad_symbol\u001b[0m\u001b[1;33m=\u001b[0m\u001b[1;34m\"SS\"\u001b[0m\u001b[1;33m,\u001b[0m\u001b[0mright_pad_symbol\u001b[0m\u001b[1;33m=\u001b[0m\u001b[1;34m'SE'\u001b[0m\u001b[1;33m)\u001b[0m\u001b[1;31m#문장->바이그램화\u001b[0m\u001b[1;33m\u001b[0m\u001b[1;33m\u001b[0m\u001b[0m\n\u001b[0;32m     14\u001b[0m     \u001b[0mend_data\u001b[0m\u001b[1;33m+=\u001b[0m\u001b[1;33m[\u001b[0m\u001b[0mt\u001b[0m \u001b[1;32mfor\u001b[0m \u001b[0mt\u001b[0m \u001b[1;32min\u001b[0m \u001b[0mbg\u001b[0m\u001b[1;33m]\u001b[0m \u001b[1;31m#바이그램 각 토큰을 end_data에 삽입\u001b[0m\u001b[1;33m\u001b[0m\u001b[1;33m\u001b[0m\u001b[0m\n\u001b[1;32m---> 15\u001b[1;33m \u001b[0mend_data\u001b[0m\u001b[1;33m.\u001b[0m\u001b[0mshape\u001b[0m\u001b[1;33m\u001b[0m\u001b[1;33m\u001b[0m\u001b[0m\n\u001b[0m\u001b[0;32m     16\u001b[0m \u001b[1;33m\u001b[0m\u001b[0m\n\u001b[0;32m     17\u001b[0m \u001b[1;33m\u001b[0m\u001b[0m\n",
      "\u001b[1;31mAttributeError\u001b[0m: 'list' object has no attribute 'shape'"
     ]
    }
   ],
   "source": [
    "from konlpy.tag import Okt\n",
    "from tqdm import tqdm #작업의 진행사항을 알려주는 패키지\n",
    "from nltk.util import ngrams #ngrams \n",
    "tk = Okt()\n",
    "def tk_f(t_data):\n",
    "    tk_d = ['/'.join(x) for x in tk.pos(t_data)] # 각 줄을 형태소로 분리하고'/'로 한줄을 만든다.\n",
    "    return tk_d\n",
    "end_data=[]\n",
    "\n",
    "for t in tqdm(t_data): #반복문을 통한 작업 진행사항 확인\n",
    "    tk_data = tk_f(t) #/'+형택소로 만들어진 데이터#문자열 데이터 #문장->형태소 문장\n",
    "    #바이그램을 만들기 위한 SS<문장>SE전처리\n",
    "    bg=ngrams(tk_data,2,pad_left=True,pad_right=True,left_pad_symbol=\"SS\",right_pad_symbol='SE')#문장->바이그램화\n",
    "    end_data+=[t for t in bg] #바이그램 각 토큰을 end_data에 삽입\n",
    "\n",
    "    "
   ]
  },
  {
   "cell_type": "code",
   "execution_count": 15,
   "id": "25885023",
   "metadata": {},
   "outputs": [],
   "source": [
    "from nltk import ConditionalFreqDist  #문맥별 빈도수 계산 클래스\n",
    "from nltk.probability import ConditionalProbDist,MLEProbDist #문맥별 조건부 확률 딕셔너리"
   ]
  },
  {
   "cell_type": "code",
   "execution_count": 16,
   "id": "c3e3dd46",
   "metadata": {},
   "outputs": [
    {
     "data": {
      "text/plain": [
       "[('SS', '아/Exclamation'),\n",
       " ('아/Exclamation', '더빙/Noun'),\n",
       " ('더빙/Noun', '../Punctuation'),\n",
       " ('../Punctuation', '진짜/Noun'),\n",
       " ('진짜/Noun', '짜증나네요/Adjective'),\n",
       " ('짜증나네요/Adjective', '목소리/Noun'),\n",
       " ('목소리/Noun', 'SE'),\n",
       " ('SS', '흠/Noun'),\n",
       " ('흠/Noun', '.../Punctuation'),\n",
       " ('.../Punctuation', '포스터/Noun')]"
      ]
     },
     "execution_count": 16,
     "metadata": {},
     "output_type": "execute_result"
    }
   ],
   "source": [
    "end_data[0:10]"
   ]
  },
  {
   "cell_type": "code",
   "execution_count": 17,
   "id": "cc6648b3",
   "metadata": {},
   "outputs": [],
   "source": [
    "cfd = ConditionalFreqDist(end_data)\n",
    "cpd = ConditionalProbDist(cfd, MLEProbDist)"
   ]
  },
  {
   "cell_type": "code",
   "execution_count": 18,
   "id": "22e22cd7",
   "metadata": {},
   "outputs": [
    {
     "data": {
      "text/plain": [
       "'미키짱과말도전혀빗나가지않던전개로꽥꽥대는거보니까요^^'"
      ]
     },
     "execution_count": 18,
     "metadata": {},
     "output_type": "execute_result"
    }
   ],
   "source": [
    "st='SS'\n",
    "all_str=[]\n",
    "import random\n",
    "random.seed(0)\n",
    "while True: \n",
    "    st=cpd[st].generate() #'st'다음 단어 랜덤 생성\n",
    "    if st=='SE':\n",
    "        break\n",
    "    d=st.split(\"/\")[0] #단, 형태소의 는 버리고/\n",
    "    all_str.append(d) #출력할 형태소 리스트에 추가\n",
    "n_data=''.join(all_str)\n",
    "n_data"
   ]
  },
  {
   "cell_type": "code",
   "execution_count": 19,
   "id": "b1ab026d",
   "metadata": {},
   "outputs": [],
   "source": [
    "def 정리_생성():\n",
    "    c = \"SS\"\n",
    "    sentence = []\n",
    "    while True:\n",
    "        w = cpd[c].generate()\n",
    "\n",
    "        if w == \"SE\":\n",
    "            break\n",
    "\n",
    "        w2 = w.split(\"/\")[0]\n",
    "        pos = w.split(\"/\")[1]\n",
    "\n",
    "        if c == \"SS\":\n",
    "            sentence.append(w2.title())\n",
    "        elif c in [\"`\", \"\\\"\", \"'\", \"(\"]:\n",
    "            sentence.append(w2)\n",
    "        elif w2 in [\"'\", \".\", \",\", \")\", \":\", \";\", \"?\"]:\n",
    "            sentence.append(w2)\n",
    "        elif pos in [\"Josa\", \"Punctuation\", \"Suffix\"]:\n",
    "            sentence.append(w2)\n",
    "        elif w in [\"임/Noun\", \"것/Noun\", \"는걸/Noun\", \"릴때/Noun\",\n",
    "                   \"되다/Verb\", \"이다/Verb\", \"하다/Verb\", \"이다/Adjective\"]:\n",
    "            sentence.append(w2)\n",
    "        else:\n",
    "            sentence.append(\" \" + w2)\n",
    "        c = w\n",
    "\n",
    "    return \"\".join(sentence)"
   ]
  },
  {
   "cell_type": "code",
   "execution_count": 20,
   "id": "a3147c91",
   "metadata": {},
   "outputs": [
    {
     "data": {
      "text/plain": [
       "'빨강 머리 박고 싸우는 장면의 호러-> 1 점 만점이다라고 한번은 분명히 보는 편 빼고는 다 스스로 인식에서 폭풍 오열 하는 프로는 장면 속이 시원했어요 주인공이 산만했다 그래도 재밌지 않나? 이 전설의 뜻'"
      ]
     },
     "execution_count": 20,
     "metadata": {},
     "output_type": "execute_result"
    }
   ],
   "source": [
    "정리_생성()"
   ]
  },
  {
   "cell_type": "code",
   "execution_count": null,
   "id": "e1a133ed",
   "metadata": {},
   "outputs": [],
   "source": []
  }
 ],
 "metadata": {
  "kernelspec": {
   "display_name": "Python 3 (ipykernel)",
   "language": "python",
   "name": "python3"
  },
  "language_info": {
   "codemirror_mode": {
    "name": "ipython",
    "version": 3
   },
   "file_extension": ".py",
   "mimetype": "text/x-python",
   "name": "python",
   "nbconvert_exporter": "python",
   "pygments_lexer": "ipython3",
   "version": "3.9.7"
  }
 },
 "nbformat": 4,
 "nbformat_minor": 5
}
