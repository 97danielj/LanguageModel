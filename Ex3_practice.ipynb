{
 "cells": [
  {
   "cell_type": "markdown",
   "id": "79317ca3",
   "metadata": {},
   "source": [
    "Bag of Words-> 단어들의 빈도수(문장 기준)\n",
    "1. 단어들의 집합\n",
    "2. 벡터화"
   ]
  },
  {
   "cell_type": "code",
   "execution_count": 1,
   "id": "4ac08d4f",
   "metadata": {},
   "outputs": [],
   "source": [
    "t = '안녕 나는 강사야 너는 잘 듣고 있니?'"
   ]
  },
  {
   "cell_type": "code",
   "execution_count": 9,
   "id": "3dde6347",
   "metadata": {},
   "outputs": [
    {
     "data": {
      "text/plain": [
       "({'안녕': 0, '나': 1, '는': 2, '강사': 3, '야': 4, '너': 5, '잘': 6, '듣고': 7, '있니': 8},\n",
       " [1, 1, 2, 1, 1, 1, 1, 1, 1])"
      ]
     },
     "execution_count": 9,
     "metadata": {},
     "output_type": "execute_result"
    }
   ],
   "source": [
    "from konlpy.tag import Okt\n",
    "tk=Okt()\n",
    "#문장의 형태소->단어 토큰화\n",
    "def 문장_처리(입력_문장):\n",
    "    입력_문장=입력_문장.replace('?','') #의미없는 단어 정리(전처리용)\n",
    "    토큰화된_data=tk.morphs(입력_문장)\n",
    "    단어_집합={}\n",
    "    단어_빈도수=[]\n",
    "    for 단어 in 토큰화된_data:\n",
    "        if 단어 not in 단어_집합: #인덱스 키가 형태소가 없으면\n",
    "            단어_집합[단어] = len(단어_집합) #인덱스 길이(정수)를 새로운 새로운 새로운 원소로 넣는다\n",
    "            단어_빈도수.insert(len(단어_집합)-1,1)\n",
    "        else:\n",
    "            단어_인덱스=단어_집합.get(단어)\n",
    "            단어_빈도수[단어_인덱스]+=1\n",
    "    return 단어_집합, 단어_빈도수\n",
    "문장_처리(t)"
   ]
  },
  {
   "cell_type": "code",
   "execution_count": 14,
   "id": "68cb42fd",
   "metadata": {},
   "outputs": [
    {
     "data": {
      "text/plain": [
       "array([[1, 1, 1, 1, 1, 1]], dtype=int64)"
      ]
     },
     "execution_count": 14,
     "metadata": {},
     "output_type": "execute_result"
    }
   ],
   "source": [
    "from sklearn.feature_extraction.text import CountVectorizer\n",
    "tr_t=t.replace('?','')\n",
    "\n",
    "v=CountVectorizer()#학습을하면서 토큰을만든다.\n",
    "v.fit_transform([tr_t]).toarray()"
   ]
  },
  {
   "cell_type": "code",
   "execution_count": 15,
   "id": "66831e89",
   "metadata": {},
   "outputs": [],
   "source": [
    "문장_집합=['안녕 나는 강사', '나는 학생', '나는 공부중','나는 노는중','나는 자는중']"
   ]
  },
  {
   "cell_type": "code",
   "execution_count": 16,
   "id": "201204da",
   "metadata": {},
   "outputs": [
    {
     "data": {
      "text/plain": [
       "{'안녕': 4, '나는': 1, '강사야': 0, '너는': 2, '듣고': 3, '있니': 5}"
      ]
     },
     "execution_count": 16,
     "metadata": {},
     "output_type": "execute_result"
    }
   ],
   "source": [
    "v.vocabulary_"
   ]
  },
  {
   "cell_type": "code",
   "execution_count": 18,
   "id": "7062ac62",
   "metadata": {},
   "outputs": [
    {
     "data": {
      "text/plain": [
       "array([[0, 1, 0, 0, 1, 0],\n",
       "       [0, 1, 0, 0, 0, 0],\n",
       "       [0, 1, 0, 0, 0, 0],\n",
       "       [0, 1, 0, 0, 0, 0],\n",
       "       [0, 1, 0, 0, 0, 0]], dtype=int64)"
      ]
     },
     "execution_count": 18,
     "metadata": {},
     "output_type": "execute_result"
    }
   ],
   "source": [
    "v.transform(문장_집합).toarray()"
   ]
  },
  {
   "cell_type": "code",
   "execution_count": 20,
   "id": "95314c05",
   "metadata": {},
   "outputs": [
    {
     "data": {
      "text/plain": [
       "array([[1, 0, 0, 1, 0, 0],\n",
       "       [0, 0, 0, 0, 0, 1],\n",
       "       [0, 1, 0, 0, 0, 0],\n",
       "       [0, 0, 1, 0, 0, 0],\n",
       "       [0, 0, 0, 0, 1, 0]], dtype=int64)"
      ]
     },
     "execution_count": 20,
     "metadata": {},
     "output_type": "execute_result"
    }
   ],
   "source": [
    "v2 = CountVectorizer(stop_words=['나는'])\n",
    "v2.fit_transform(문장_집합).toarray()"
   ]
  },
  {
   "cell_type": "code",
   "execution_count": 22,
   "id": "a80e5833",
   "metadata": {},
   "outputs": [
    {
     "data": {
      "text/plain": [
       "{'안녕': 3, '강사': 0, '학생': 5, '공부중': 1, '노는중': 2, '자는중': 4}"
      ]
     },
     "execution_count": 22,
     "metadata": {},
     "output_type": "execute_result"
    }
   ],
   "source": [
    "v2.vocabulary_"
   ]
  },
  {
   "cell_type": "code",
   "execution_count": 25,
   "id": "73813c62",
   "metadata": {},
   "outputs": [
    {
     "data": {
      "text/plain": [
       "['안녕',\n",
       " '나',\n",
       " '는',\n",
       " '강사',\n",
       " '나',\n",
       " '는',\n",
       " '학생',\n",
       " '나',\n",
       " '는',\n",
       " '공부',\n",
       " '중',\n",
       " '나',\n",
       " '는',\n",
       " '노',\n",
       " '는',\n",
       " '중',\n",
       " '나',\n",
       " '는',\n",
       " '자는',\n",
       " '중']"
      ]
     },
     "execution_count": 25,
     "metadata": {},
     "output_type": "execute_result"
    }
   ],
   "source": [
    "t_l=[]\n",
    "for i in 문장_집합:\n",
    "    t_l+=tk.morphs(i)\n",
    "t_l"
   ]
  },
  {
   "cell_type": "code",
   "execution_count": 26,
   "id": "7c0a251a",
   "metadata": {},
   "outputs": [
    {
     "data": {
      "text/plain": [
       "CountVectorizer()"
      ]
     },
     "execution_count": 26,
     "metadata": {},
     "output_type": "execute_result"
    }
   ],
   "source": [
    "v3 = CountVectorizer()\n",
    "v3.fit(t_l)"
   ]
  },
  {
   "cell_type": "code",
   "execution_count": null,
   "id": "93a1b436",
   "metadata": {},
   "outputs": [],
   "source": [
    "t = 'the I am a boy a a a a a a'"
   ]
  }
 ],
 "metadata": {
  "kernelspec": {
   "display_name": "Python 3 (ipykernel)",
   "language": "python",
   "name": "python3"
  },
  "language_info": {
   "codemirror_mode": {
    "name": "ipython",
    "version": 3
   },
   "file_extension": ".py",
   "mimetype": "text/x-python",
   "name": "python",
   "nbconvert_exporter": "python",
   "pygments_lexer": "ipython3",
   "version": "3.9.7"
  }
 },
 "nbformat": 4,
 "nbformat_minor": 5
}
