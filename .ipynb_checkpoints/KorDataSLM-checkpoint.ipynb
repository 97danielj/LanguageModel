{
 "cells": [
  {
   "cell_type": "markdown",
   "id": "e92f0ee4",
   "metadata": {},
   "source": [
    "데이터수집"
   ]
  },
  {
   "cell_type": "code",
   "execution_count": 1,
   "id": "3b3ca8f4",
   "metadata": {},
   "outputs": [
    {
     "name": "stdout",
     "output_type": "stream",
     "text": [
      "<class 'list'>\n"
     ]
    }
   ],
   "source": [
    "import codecs\n",
    "with codecs.open('data2.txt',encoding='utf-8') as f: #문서 로드\n",
    "    #한줄의 문장이 id, docment label이 '\\t'로 분리되어있다.\n",
    "    data = [문장.split('\\t') for 문장 in f.read().splitlines()]\n",
    "    data=data[1:]\n",
    "    #데이터 피쳐 : document와 label\n",
    "\n",
    "print(type(data))"
   ]
  },
  {
   "cell_type": "markdown",
   "id": "0ea08da5",
   "metadata": {},
   "source": [
    "데이터전처리(문장 토큰화 및 정제)"
   ]
  },
  {
   "cell_type": "code",
   "execution_count": 8,
   "id": "6f3719d8",
   "metadata": {},
   "outputs": [],
   "source": [
    "t_data = [문장[1] for 문장 in data]\n",
    "#우리는 document 피쳐만이 필요하다.\n"
   ]
  },
  {
   "cell_type": "markdown",
   "id": "bbe9c264",
   "metadata": {},
   "source": [
    "데이터전처리(단어 토큰화-> 형태소 토큰화)"
   ]
  },
  {
   "cell_type": "code",
   "execution_count": 15,
   "id": "368d9bff",
   "metadata": {},
   "outputs": [],
   "source": [
    "from konlpy.tag import Okt\n",
    "tg = Okt()\n",
    "t = ('안녕','Noun')\n",
    "def tk_f(t_data):\n",
    "    tk_d = ['/'.join(x) for x in tg.pos(t_data)]\n",
    "    return tk_d"
   ]
  },
  {
   "cell_type": "code",
   "execution_count": 18,
   "id": "c3e3dd46",
   "metadata": {},
   "outputs": [
    {
     "name": "stderr",
     "output_type": "stream",
     "text": [
      "100%|█████████████████████████████████████████████████████████████████████| 150000/150000 [31:55<00:00, 78.30it/s]\n"
     ]
    }
   ],
   "source": [
    "from tqdm import tqdm #작업의 진행사항을 알려주는 패키지\n",
    "from nltk.util import ngrams\n",
    "end_data=[]\n",
    "for i in tqdm(t_data): #반벅문을 통한 작업 진행사항 확인\n",
    "    tk_data = tk_f(i) #형태소 분석을 이용한 토큰화\n",
    "    bg = ngrams(tk_data,2, pad_left=True,pad_right=True,left_pad_symbol=\"SS\", right_pad_symbol=\"SE\")\n",
    "    end_data+=[t for t in bg]"
   ]
  },
  {
   "cell_type": "code",
   "execution_count": null,
   "id": "cc6648b3",
   "metadata": {},
   "outputs": [],
   "source": []
  }
 ],
 "metadata": {
  "kernelspec": {
   "display_name": "Python 3 (ipykernel)",
   "language": "python",
   "name": "python3"
  },
  "language_info": {
   "codemirror_mode": {
    "name": "ipython",
    "version": 3
   },
   "file_extension": ".py",
   "mimetype": "text/x-python",
   "name": "python",
   "nbconvert_exporter": "python",
   "pygments_lexer": "ipython3",
   "version": "3.9.7"
  }
 },
 "nbformat": 4,
 "nbformat_minor": 5
}
